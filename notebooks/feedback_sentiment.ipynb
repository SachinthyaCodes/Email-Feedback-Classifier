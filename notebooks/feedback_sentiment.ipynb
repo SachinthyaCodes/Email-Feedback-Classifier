{
 "cells": [
  {
   "cell_type": "code",
   "execution_count": 1,
   "id": "91545544",
   "metadata": {},
   "outputs": [
    {
     "name": "stderr",
     "output_type": "stream",
     "text": [
      "No model was supplied, defaulted to distilbert/distilbert-base-uncased-finetuned-sst-2-english and revision 714eb0f (https://huggingface.co/distilbert/distilbert-base-uncased-finetuned-sst-2-english).\n",
      "Using a pipeline without specifying a model name and revision in production is not recommended.\n"
     ]
    },
    {
     "data": {
      "application/vnd.jupyter.widget-view+json": {
       "model_id": "6ab7bb81b45748a1994a243e234c7189",
       "version_major": 2,
       "version_minor": 0
      },
      "text/plain": [
       "config.json:   0%|          | 0.00/629 [00:00<?, ?B/s]"
      ]
     },
     "metadata": {},
     "output_type": "display_data"
    },
    {
     "name": "stderr",
     "output_type": "stream",
     "text": [
      "Xet Storage is enabled for this repo, but the 'hf_xet' package is not installed. Falling back to regular HTTP download. For better performance, install the package with: `pip install huggingface_hub[hf_xet]` or `pip install hf_xet`\n"
     ]
    },
    {
     "data": {
      "application/vnd.jupyter.widget-view+json": {
       "model_id": "f8d32abf107c4f289036aaa29e320cca",
       "version_major": 2,
       "version_minor": 0
      },
      "text/plain": [
       "model.safetensors:   0%|          | 0.00/268M [00:00<?, ?B/s]"
      ]
     },
     "metadata": {},
     "output_type": "display_data"
    },
    {
     "data": {
      "application/vnd.jupyter.widget-view+json": {
       "model_id": "df7c5e8c9d5e4cd7a6666fde561ddb0b",
       "version_major": 2,
       "version_minor": 0
      },
      "text/plain": [
       "tokenizer_config.json:   0%|          | 0.00/48.0 [00:00<?, ?B/s]"
      ]
     },
     "metadata": {},
     "output_type": "display_data"
    },
    {
     "data": {
      "application/vnd.jupyter.widget-view+json": {
       "model_id": "6b886a5826064f939b1cfd7e85fe17d1",
       "version_major": 2,
       "version_minor": 0
      },
      "text/plain": [
       "vocab.txt:   0%|          | 0.00/232k [00:00<?, ?B/s]"
      ]
     },
     "metadata": {},
     "output_type": "display_data"
    },
    {
     "name": "stderr",
     "output_type": "stream",
     "text": [
      "Device set to use cpu\n"
     ]
    },
    {
     "data": {
      "text/html": [
       "<div>\n",
       "<style scoped>\n",
       "    .dataframe tbody tr th:only-of-type {\n",
       "        vertical-align: middle;\n",
       "    }\n",
       "\n",
       "    .dataframe tbody tr th {\n",
       "        vertical-align: top;\n",
       "    }\n",
       "\n",
       "    .dataframe thead th {\n",
       "        text-align: right;\n",
       "    }\n",
       "</style>\n",
       "<table border=\"1\" class=\"dataframe\">\n",
       "  <thead>\n",
       "    <tr style=\"text-align: right;\">\n",
       "      <th></th>\n",
       "      <th>text</th>\n",
       "      <th>vader_score</th>\n",
       "      <th>vader_label</th>\n",
       "      <th>hf_label</th>\n",
       "      <th>hf_score</th>\n",
       "    </tr>\n",
       "  </thead>\n",
       "  <tbody>\n",
       "    <tr>\n",
       "      <th>0</th>\n",
       "      <td>This app is amazing!</td>\n",
       "      <td>0.6239</td>\n",
       "      <td>positive</td>\n",
       "      <td>POSITIVE</td>\n",
       "      <td>0.999875</td>\n",
       "    </tr>\n",
       "    <tr>\n",
       "      <th>1</th>\n",
       "      <td>It crashes too often and is unusable.</td>\n",
       "      <td>0.0000</td>\n",
       "      <td>neutral</td>\n",
       "      <td>NEGATIVE</td>\n",
       "      <td>0.999675</td>\n",
       "    </tr>\n",
       "    <tr>\n",
       "      <th>2</th>\n",
       "      <td>Can you add dark mode?</td>\n",
       "      <td>0.0000</td>\n",
       "      <td>neutral</td>\n",
       "      <td>NEGATIVE</td>\n",
       "      <td>0.995464</td>\n",
       "    </tr>\n",
       "    <tr>\n",
       "      <th>3</th>\n",
       "      <td>Thanks for your support.</td>\n",
       "      <td>0.6808</td>\n",
       "      <td>positive</td>\n",
       "      <td>POSITIVE</td>\n",
       "      <td>0.999799</td>\n",
       "    </tr>\n",
       "  </tbody>\n",
       "</table>\n",
       "</div>"
      ],
      "text/plain": [
       "                                    text  vader_score vader_label  hf_label  \\\n",
       "0                   This app is amazing!       0.6239    positive  POSITIVE   \n",
       "1  It crashes too often and is unusable.       0.0000     neutral  NEGATIVE   \n",
       "2                 Can you add dark mode?       0.0000     neutral  NEGATIVE   \n",
       "3               Thanks for your support.       0.6808    positive  POSITIVE   \n",
       "\n",
       "   hf_score  \n",
       "0  0.999875  \n",
       "1  0.999675  \n",
       "2  0.995464  \n",
       "3  0.999799  "
      ]
     },
     "execution_count": 1,
     "metadata": {},
     "output_type": "execute_result"
    }
   ],
   "source": [
    "# Imports\n",
    "import pandas as pd\n",
    "from vaderSentiment.vaderSentiment import SentimentIntensityAnalyzer\n",
    "from transformers import pipeline\n",
    "\n",
    "# Example dataset\n",
    "df = pd.DataFrame({\n",
    "    'text': [\n",
    "        'This app is amazing!',\n",
    "        'It crashes too often and is unusable.',\n",
    "        'Can you add dark mode?',\n",
    "        'Thanks for your support.'\n",
    "    ]\n",
    "})\n",
    "\n",
    "# Initialize analyzers\n",
    "vader = SentimentIntensityAnalyzer()\n",
    "hf_sentiment = pipeline('sentiment-analysis')\n",
    "\n",
    "# Analyze function\n",
    "def analyze_sentiment(text):\n",
    "    vader_score = vader.polarity_scores(text)\n",
    "    hf = hf_sentiment(text)[0]\n",
    "    return {\n",
    "        'vader_score': vader_score['compound'],\n",
    "        'vader_label': 'positive' if vader_score['compound'] >= 0.05 else 'negative' if vader_score['compound'] <= -0.05 else 'neutral',\n",
    "        'hf_label': hf['label'],\n",
    "        'hf_score': hf['score']\n",
    "    }\n",
    "\n",
    "# Apply and export\n",
    "sentiment_results = df['text'].apply(analyze_sentiment)\n",
    "sentiment_df = pd.DataFrame(sentiment_results.tolist())\n",
    "df_final = pd.concat([df, sentiment_df], axis=1)\n",
    "df_final.to_csv('../data/predicted_feedback.csv', index=False)\n",
    "df_final\n"
   ]
  },
  {
   "cell_type": "code",
   "execution_count": null,
   "id": "cd8a5ead",
   "metadata": {},
   "outputs": [],
   "source": []
  }
 ],
 "metadata": {
  "kernelspec": {
   "display_name": "env",
   "language": "python",
   "name": "python3"
  },
  "language_info": {
   "codemirror_mode": {
    "name": "ipython",
    "version": 3
   },
   "file_extension": ".py",
   "mimetype": "text/x-python",
   "name": "python",
   "nbconvert_exporter": "python",
   "pygments_lexer": "ipython3",
   "version": "3.12.4"
  }
 },
 "nbformat": 4,
 "nbformat_minor": 5
}
