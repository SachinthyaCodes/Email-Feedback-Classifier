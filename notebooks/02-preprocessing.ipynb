{
 "cells": [
  {
   "cell_type": "code",
   "execution_count": 2,
   "id": "98d87da5-7d09-4c04-b88e-796e129fad44",
   "metadata": {},
   "outputs": [
    {
     "data": {
      "text/html": [
       "<div>\n",
       "<style scoped>\n",
       "    .dataframe tbody tr th:only-of-type {\n",
       "        vertical-align: middle;\n",
       "    }\n",
       "\n",
       "    .dataframe tbody tr th {\n",
       "        vertical-align: top;\n",
       "    }\n",
       "\n",
       "    .dataframe thead th {\n",
       "        text-align: right;\n",
       "    }\n",
       "</style>\n",
       "<table border=\"1\" class=\"dataframe\">\n",
       "  <thead>\n",
       "    <tr style=\"text-align: right;\">\n",
       "      <th></th>\n",
       "      <th>text</th>\n",
       "      <th>label</th>\n",
       "    </tr>\n",
       "  </thead>\n",
       "  <tbody>\n",
       "    <tr>\n",
       "      <th>0</th>\n",
       "      <td>The app crashes every time I upload an image.</td>\n",
       "      <td>technical_issue</td>\n",
       "    </tr>\n",
       "    <tr>\n",
       "      <th>1</th>\n",
       "      <td>I really love the new dashboard layout!</td>\n",
       "      <td>praise</td>\n",
       "    </tr>\n",
       "    <tr>\n",
       "      <th>2</th>\n",
       "      <td>Please add dark mode to the app.</td>\n",
       "      <td>feature_request</td>\n",
       "    </tr>\n",
       "    <tr>\n",
       "      <th>3</th>\n",
       "      <td>I'm very disappointed with your customer service.</td>\n",
       "      <td>complaint</td>\n",
       "    </tr>\n",
       "    <tr>\n",
       "      <th>4</th>\n",
       "      <td>How do I change my subscription plan?</td>\n",
       "      <td>question</td>\n",
       "    </tr>\n",
       "  </tbody>\n",
       "</table>\n",
       "</div>"
      ],
      "text/plain": [
       "                                                text            label\n",
       "0      The app crashes every time I upload an image.  technical_issue\n",
       "1            I really love the new dashboard layout!           praise\n",
       "2                   Please add dark mode to the app.  feature_request\n",
       "3  I'm very disappointed with your customer service.        complaint\n",
       "4              How do I change my subscription plan?         question"
      ]
     },
     "execution_count": 2,
     "metadata": {},
     "output_type": "execute_result"
    }
   ],
   "source": [
    "import pandas as pd\n",
    "import re\n",
    "import spacy\n",
    "from sklearn.preprocessing import LabelEncoder\n",
    "\n",
    "# Load dataset\n",
    "df = pd.read_csv(\"../data/feedback.csv\")\n",
    "df.head()\n"
   ]
  },
  {
   "cell_type": "code",
   "execution_count": 3,
   "id": "e998bc5e-8dad-4b8d-8c5e-91fc0f435c9a",
   "metadata": {},
   "outputs": [],
   "source": [
    "# Load spaCy English model\n",
    "nlp = spacy.load(\"en_core_web_sm\")"
   ]
  },
  {
   "cell_type": "code",
   "execution_count": 5,
   "id": "97ca7003-ddb4-4c71-b24d-e04e5a7b30e9",
   "metadata": {},
   "outputs": [
    {
     "data": {
      "text/html": [
       "<div>\n",
       "<style scoped>\n",
       "    .dataframe tbody tr th:only-of-type {\n",
       "        vertical-align: middle;\n",
       "    }\n",
       "\n",
       "    .dataframe tbody tr th {\n",
       "        vertical-align: top;\n",
       "    }\n",
       "\n",
       "    .dataframe thead th {\n",
       "        text-align: right;\n",
       "    }\n",
       "</style>\n",
       "<table border=\"1\" class=\"dataframe\">\n",
       "  <thead>\n",
       "    <tr style=\"text-align: right;\">\n",
       "      <th></th>\n",
       "      <th>text</th>\n",
       "      <th>clean_text</th>\n",
       "    </tr>\n",
       "  </thead>\n",
       "  <tbody>\n",
       "    <tr>\n",
       "      <th>0</th>\n",
       "      <td>The app crashes every time I upload an image.</td>\n",
       "      <td>the app crashes every time i upload an image</td>\n",
       "    </tr>\n",
       "    <tr>\n",
       "      <th>1</th>\n",
       "      <td>I really love the new dashboard layout!</td>\n",
       "      <td>i really love the new dashboard layout</td>\n",
       "    </tr>\n",
       "    <tr>\n",
       "      <th>2</th>\n",
       "      <td>Please add dark mode to the app.</td>\n",
       "      <td>please add dark mode to the app</td>\n",
       "    </tr>\n",
       "    <tr>\n",
       "      <th>3</th>\n",
       "      <td>I'm very disappointed with your customer service.</td>\n",
       "      <td>im very disappointed with your customer service</td>\n",
       "    </tr>\n",
       "    <tr>\n",
       "      <th>4</th>\n",
       "      <td>How do I change my subscription plan?</td>\n",
       "      <td>how do i change my subscription plan</td>\n",
       "    </tr>\n",
       "  </tbody>\n",
       "</table>\n",
       "</div>"
      ],
      "text/plain": [
       "                                                text  \\\n",
       "0      The app crashes every time I upload an image.   \n",
       "1            I really love the new dashboard layout!   \n",
       "2                   Please add dark mode to the app.   \n",
       "3  I'm very disappointed with your customer service.   \n",
       "4              How do I change my subscription plan?   \n",
       "\n",
       "                                        clean_text  \n",
       "0     the app crashes every time i upload an image  \n",
       "1           i really love the new dashboard layout  \n",
       "2                  please add dark mode to the app  \n",
       "3  im very disappointed with your customer service  \n",
       "4             how do i change my subscription plan  "
      ]
     },
     "execution_count": 5,
     "metadata": {},
     "output_type": "execute_result"
    }
   ],
   "source": [
    "# Function to clean and preprocess text\n",
    "def clean_text(text):\n",
    "    text = text.lower()  # lowercase\n",
    "    text = re.sub(r'[^a-zA-Z\\s]', '', text)  # remove special characters\n",
    "    text = re.sub(r'\\s+', ' ', text).strip()  # remove extra whitespace\n",
    "    return text\n",
    "\n",
    "df['clean_text'] = df['text'].apply(clean_text)\n",
    "df[['text', 'clean_text']].head()"
   ]
  },
  {
   "cell_type": "code",
   "execution_count": 10,
   "id": "6f7ac526-7fef-4c55-9e8c-1bfb35ec42ec",
   "metadata": {},
   "outputs": [],
   "source": [
    "def tokenize(text):\n",
    "    doc = nlp(text)\n",
    "    return [token.text for token in doc if not token.is_stop and not token.is_punct]"
   ]
  },
  {
   "cell_type": "code",
   "execution_count": 11,
   "id": "98ca5131-151c-4992-9db8-dc4e4a9d95ac",
   "metadata": {},
   "outputs": [
    {
     "data": {
      "text/html": [
       "<div>\n",
       "<style scoped>\n",
       "    .dataframe tbody tr th:only-of-type {\n",
       "        vertical-align: middle;\n",
       "    }\n",
       "\n",
       "    .dataframe tbody tr th {\n",
       "        vertical-align: top;\n",
       "    }\n",
       "\n",
       "    .dataframe thead th {\n",
       "        text-align: right;\n",
       "    }\n",
       "</style>\n",
       "<table border=\"1\" class=\"dataframe\">\n",
       "  <thead>\n",
       "    <tr style=\"text-align: right;\">\n",
       "      <th></th>\n",
       "      <th>clean_text</th>\n",
       "      <th>tokens</th>\n",
       "    </tr>\n",
       "  </thead>\n",
       "  <tbody>\n",
       "    <tr>\n",
       "      <th>0</th>\n",
       "      <td>the app crashes every time i upload an image</td>\n",
       "      <td>[app, crashes, time, upload, image]</td>\n",
       "    </tr>\n",
       "    <tr>\n",
       "      <th>1</th>\n",
       "      <td>i really love the new dashboard layout</td>\n",
       "      <td>[love, new, dashboard, layout]</td>\n",
       "    </tr>\n",
       "    <tr>\n",
       "      <th>2</th>\n",
       "      <td>please add dark mode to the app</td>\n",
       "      <td>[add, dark, mode, app]</td>\n",
       "    </tr>\n",
       "    <tr>\n",
       "      <th>3</th>\n",
       "      <td>im very disappointed with your customer service</td>\n",
       "      <td>[m, disappointed, customer, service]</td>\n",
       "    </tr>\n",
       "    <tr>\n",
       "      <th>4</th>\n",
       "      <td>how do i change my subscription plan</td>\n",
       "      <td>[change, subscription, plan]</td>\n",
       "    </tr>\n",
       "  </tbody>\n",
       "</table>\n",
       "</div>"
      ],
      "text/plain": [
       "                                        clean_text  \\\n",
       "0     the app crashes every time i upload an image   \n",
       "1           i really love the new dashboard layout   \n",
       "2                  please add dark mode to the app   \n",
       "3  im very disappointed with your customer service   \n",
       "4             how do i change my subscription plan   \n",
       "\n",
       "                                 tokens  \n",
       "0   [app, crashes, time, upload, image]  \n",
       "1        [love, new, dashboard, layout]  \n",
       "2                [add, dark, mode, app]  \n",
       "3  [m, disappointed, customer, service]  \n",
       "4          [change, subscription, plan]  "
      ]
     },
     "execution_count": 11,
     "metadata": {},
     "output_type": "execute_result"
    }
   ],
   "source": [
    "df['tokens'] = df['clean_text'].apply(tokenize)\n",
    "df[['clean_text', 'tokens']].head()"
   ]
  },
  {
   "cell_type": "code",
   "execution_count": 13,
   "id": "cbef0181-cc37-4c6c-9593-be08b53c61c4",
   "metadata": {},
   "outputs": [
    {
     "name": "stdout",
     "output_type": "stream",
     "text": [
      "Label Mapping: {'complaint': np.int64(0), 'feature_request': np.int64(1), 'praise': np.int64(2), 'question': np.int64(3), 'technical_issue': np.int64(4)}\n"
     ]
    }
   ],
   "source": [
    "# Encode labels (e.g., complaint → 0, praise → 1, etc.)\n",
    "le = LabelEncoder()\n",
    "df['label_encoded'] = le.fit_transform(df['label'])\n",
    "\n",
    "# Save mapping for reference\n",
    "label_map = dict(zip(le.classes_, le.transform(le.classes_)))\n",
    "print(\"Label Mapping:\", label_map)\n"
   ]
  },
  {
   "cell_type": "code",
   "execution_count": 14,
   "id": "37b098c2-3a0d-40e9-8984-bd175f8511a3",
   "metadata": {},
   "outputs": [],
   "source": [
    "df.to_csv(\"../data/feedback_cleaned.csv\", index=False)"
   ]
  },
  {
   "cell_type": "code",
   "execution_count": null,
   "id": "2bd48e35-b6e6-41c6-950f-39beed3643ad",
   "metadata": {},
   "outputs": [],
   "source": []
  }
 ],
 "metadata": {
  "kernelspec": {
   "display_name": "Python 3 (ipykernel)",
   "language": "python",
   "name": "python3"
  },
  "language_info": {
   "codemirror_mode": {
    "name": "ipython",
    "version": 3
   },
   "file_extension": ".py",
   "mimetype": "text/x-python",
   "name": "python",
   "nbconvert_exporter": "python",
   "pygments_lexer": "ipython3",
   "version": "3.12.4"
  }
 },
 "nbformat": 4,
 "nbformat_minor": 5
}
